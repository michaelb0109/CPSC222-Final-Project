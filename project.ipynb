{
 "cells": [
  {
   "cell_type": "markdown",
   "metadata": {},
   "source": [
    "Michael Bernard\n",
    "\n",
    "CPSC222\n",
    "\n",
    "May 5, 2022\n",
    "\n",
    "Description: Final Project"
   ]
  },
  {
   "cell_type": "markdown",
   "metadata": {},
   "source": [
    "# Introduction\n",
    "\n",
    "In this project I will be analyzing my data from the Health app on my iPhone as well as Spokane, WA weather data to see if there is any correlation between the two. Additionally, I will be taking a close look at the data to see if the day of the week effects my walking patterns.\n",
    "\n",
    "* __1.a__- This project is important to me because I try to prioritize my health and I feel as though I sometimes have slumps where I do not move as much as I should. I also feel that the weather has an effect on my motivation which causes me to stay in my room more.\n",
    "* __1.b__- Both sets of data that I will be using are in the form of CSV files.\n",
    "* __1.c__- There are two tables of data coming from two different data sets. These tables are the data recorded from the Health app on my iPhone as well as data that was downloaded from [visualcrossing](https://www.visualcrossing.com/weather/weather-data-services#).\n",
    "    * __1.c.i.__- The data from the Health app is automatically recorded daily and I exported it from my phone using an app called Health Auto Export. The data from visualcrossing is gathered from nearby weather stations.\n",
    "    * __1.c.ii__- Each table has 90 instances as the data spans for 90 days.\n",
    "* __1.d__ - The attributes included in the health data are: Flights Climbed (count),Walking + Running Distance (mi),Walking Asymmetry Percentage (%),Walking Double Support Percentage (%),Walking Speed (mi/hr),Walking Step Length (in), and Day of Week. There is a long list of attributes contained in the weather data but the main ones I will focus on are: tempmax,tempmin,temp,precip,precipcover,preciptype,snow,windspeed,cloudcover,sunrise,sunset,conditions,and description. I plan to describe these attributes in greater detail as they become relavent to the work shown.\n",
    "* __1.e__- I will be classifying the data into weekdays and weekend days and potentially classifying the data into cold and warm days.\n",
    "* __1.f__- The potential impacts of the results are that I become more conscious of my daily movement based on the day of the week as well as the weather. There is a chance that I find irregularities in my walking asymmetry which could lead to other discoveries about my own health.\n",
    "* __1.g__- The stakeholders in this project include myself, my classmates, Dr. Sprint, the TA, as well as any other people who may use the result of this data as information for their own health patterns."
   ]
  },
  {
   "cell_type": "code",
   "execution_count": 1,
   "metadata": {},
   "outputs": [
    {
     "name": "stdout",
     "output_type": "stream",
     "text": [
      "The data set contains 91 days of data.\n",
      "The average steps per day is: 6314.241758241758\n",
      "The average distance per day in miles is: 2.407472527472527\n",
      "The average flights climbed per day is: 17.142857142857142\n",
      "The median asymmetry percentage per day is: 0.34650000000000003\n",
      "The average walking double support percentage per day is: 27.81582417582417\n",
      "The average walking speed per day in MPH is: 2.794395604395605\n",
      "The average step length per day in inches is: 25.77758241758241\n"
     ]
    }
   ],
   "source": [
    "import numpy as np\n",
    "import pandas as pd\n",
    "import data\n",
    "from scipy import stats\n",
    "import matplotlib.pyplot as plt\n",
    "import importlib\n",
    "importlib.reload(data)\n",
    "\n",
    "# print(data.df)\n",
    "\n",
    "dataset_len = len(data.health_df)\n",
    "print(\"The data set contains\", dataset_len,\"days of data.\")\n",
    "\n",
    "avg_steps = data.health_df[\"Steps\"].mean()\n",
    "print(\"The average steps per day is:\", avg_steps)\n",
    "avg_dist = data.health_df[\"Distance\"].mean()\n",
    "print(\"The average distance per day in miles is:\", avg_dist)\n",
    "avg_flights = data.health_df[\"FC\"].mean()\n",
    "print(\"The average flights climbed per day is:\", avg_flights)\n",
    "median_asymmetry = data.health_df[\"Asymmetry\"].median()\n",
    "print(\"The median asymmetry percentage per day is:\", median_asymmetry)\n",
    "avg_wds = data.health_df[\"WDS\"].mean()\n",
    "print(\"The average walking double support percentage per day is:\", avg_wds)\n",
    "avg_speed = data.health_df[\"Speed\"].mean()\n",
    "print(\"The average walking speed per day in MPH is:\", avg_speed)\n",
    "avg_step_len = data.health_df[\"Step Length\"].mean() # figure out why the column for this isn't changing\n",
    "print(\"The average step length per day in inches is:\", avg_step_len)\n",
    "\n"
   ]
  },
  {
   "cell_type": "markdown",
   "metadata": {},
   "source": [
    "## Grouping Data"
   ]
  },
  {
   "cell_type": "code",
   "execution_count": 30,
   "metadata": {},
   "outputs": [
    {
     "name": "stdout",
     "output_type": "stream",
     "text": [
      "[0.094, 0.628, 0.2, 0.35, 0.267, 0.343, 0.8845000000000001]\n"
     ]
    },
    {
     "data": {
      "text/plain": [
       "([0, 1, 2, 3, 4, 5, 6],\n",
       " [Text(0, 0, ''),\n",
       "  Text(0, 0, ''),\n",
       "  Text(0, 0, ''),\n",
       "  Text(0, 0, ''),\n",
       "  Text(0, 0, ''),\n",
       "  Text(0, 0, ''),\n",
       "  Text(0, 0, '')])"
      ]
     },
     "execution_count": 30,
     "metadata": {},
     "output_type": "execute_result"
    },
    {
     "data": {
      "image/png": "[encoded data removed]",
      "text/plain": [
       "<Figure size 432x288 with 1 Axes>"
      ]
     },
     "metadata": {
      "needs_background": "light"
     },
     "output_type": "display_data"
    },
    {
     "data": {
      "image/png": "[encoded data removed]",
      "text/plain": [
       "<Figure size 432x288 with 1 Axes>"
      ]
     },
     "metadata": {
      "needs_background": "light"
     },
     "output_type": "display_data"
    }
   ],
   "source": [
    "grouped_by_day = data.health_df.groupby(\"Day of Week\")\n",
    "friday_df = grouped_by_day.get_group(\"Friday\")\n",
    "saturday_df = grouped_by_day.get_group(\"Saturday\")\n",
    "sunday_df = grouped_by_day.get_group(\"Sunday\")\n",
    "monday_df = grouped_by_day.get_group(\"Monday\")\n",
    "tuesday_df = grouped_by_day.get_group(\"Tuesday\")\n",
    "wednesday_df = grouped_by_day.get_group(\"Wednesday\")\n",
    "thursday_df = grouped_by_day.get_group(\"Thursday\")\n",
    "\n",
    "friday_avg_steps = friday_df[\"Steps\"].mean()\n",
    "saturday_avg_steps = saturday_df[\"Steps\"].mean()\n",
    "sunday_avg_steps = sunday_df[\"Steps\"].mean()\n",
    "monday_avg_steps = monday_df[\"Steps\"].mean()\n",
    "tuesday_avg_steps = tuesday_df[\"Steps\"].mean()\n",
    "wednesday_avg_steps = wednesday_df[\"Steps\"].mean()\n",
    "thursday_avg_steps = thursday_df[\"Steps\"].mean()\n",
    "\n",
    "\n",
    "friday_med_asym = friday_df[\"Asymmetry\"].median()\n",
    "saturday_med_asym = saturday_df[\"Asymmetry\"].median()\n",
    "sunday_med_asym = sunday_df[\"Asymmetry\"].median()\n",
    "monday_med_asym = monday_df[\"Asymmetry\"].median()\n",
    "tuesday_med_asym = tuesday_df[\"Asymmetry\"].median()\n",
    "wednesday_med_asym = wednesday_df[\"Asymmetry\"].median()\n",
    "thursday_med_asym = thursday_df[\"Asymmetry\"].median()\n",
    "\n",
    "daily_steps = [sunday_avg_steps, monday_avg_steps, tuesday_avg_steps, wednesday_avg_steps, thursday_avg_steps, friday_avg_steps, saturday_avg_steps]\n",
    "days = ['Sunday', 'Monday','Tuesday','Wednesday','Thursday','Friday', 'Saturday']\n",
    "averages = pd.DataFrame()\n",
    "day_of_week = pd.DataFrame()\n",
    "averages['Day of Week'] = days\n",
    "averages['Average Steps'] = daily_steps\n",
    "\n",
    "# chart for steps\n",
    "plt.figure() # to create a new \"current\" figure\n",
    "plt.bar(averages[\"Day of Week\"], averages[\"Average Steps\"])\n",
    "plt.title(\"Average Steps for Each Day of the Week\")\n",
    "plt.xticks(rotation=25)\n",
    "\n",
    "daily_asym = [sunday_med_asym, monday_med_asym, tuesday_med_asym, wednesday_med_asym, thursday_med_asym, friday_med_asym, saturday_med_asym]\n",
    "print(daily_asym)\n",
    "averages['Median Asymmetry'] = daily_asym\n",
    "# chart for Asymmetry\n",
    "plt.figure() # to create a new \"current\" figure\n",
    "plt.bar(averages[\"Day of Week\"], averages['Median Asymmetry'])\n",
    "plt.title(\"Median Asymmetry for Each Day of the Week\")\n",
    "plt.xticks(rotation=25)"
   ]
  },
  {
   "cell_type": "markdown",
   "metadata": {},
   "source": [
    "## Hypothesis Testing\n",
    "#### Is there a difference in the amount of activity on Friday and Saturday vs the week days?"
   ]
  },
  {
   "cell_type": "code",
   "execution_count": 37,
   "metadata": {},
   "outputs": [
    {
     "name": "stdout",
     "output_type": "stream",
     "text": [
      "HYPO TEST FOR STEPS:\n",
      "t: -1.8342554841669285 pval: 0.0699576375089759\n",
      "do not reject H0\n",
      "\n",
      "HYPO TEST FOR FC:\n",
      "t: -1.5801323223134376 pval: 0.1176242149514772\n",
      "do not reject H0\n",
      "\n",
      "HYPO TEST FOR DISTANCE:\n",
      "t: -1.8957450506199218 pval: 0.061238799646277625\n",
      "do not reject H0\n",
      "\n",
      "HYPO TEST FOR WDS:\n",
      "t: -1.3254112838822776 pval: 0.18842711553194225\n",
      "do not reject H0\n",
      "\n",
      "HYPO TEST FOR SPEED:\n",
      "t: 1.8988567312773925 pval: 0.060823057420118745\n",
      "do not reject H0\n",
      "\n",
      "HYPO TEST FOR Step Length:\n",
      "t: 2.062427223315454 pval: 0.04208209006382106\n",
      "reject H0\n"
     ]
    }
   ],
   "source": [
    "# first need to get data\n",
    "\n",
    "# friday_df = grouped_by_day.get_group(\"Friday\")\n",
    "# saturday_df = grouped_by_day.get_group(\"Saturday\")\n",
    "weekend_df = pd.concat([friday_df, saturday_df])\n",
    "# print(weekend_df)\n",
    "# sunday_df = grouped_by_day.get_group(\"Sunday\")\n",
    "# monday_df = grouped_by_day.get_group(\"Monday\")\n",
    "# tuesday_df = grouped_by_day.get_group(\"Tuesday\")\n",
    "# wednesday_df = grouped_by_day.get_group(\"Wednesday\")\n",
    "# thursday_df = grouped_by_day.get_group(\"Thursday\")\n",
    "weekday_df = pd.concat([sunday_df, monday_df, tuesday_df, wednesday_df, thursday_df])\n",
    "# print(weekday_df)\n",
    "\n",
    "# MOVE THIS LATER\n",
    "def hypothesis_test(group_t_val, pval):\n",
    "    print(\"t:\", group_t_val, \"pval:\", pval)\n",
    "    alpha = .05\n",
    "    if pval < alpha:\n",
    "        print(\"reject H0\")\n",
    "    else:\n",
    "        print(\"do not reject H0\")\n",
    "\n",
    "xbar_weekend = np.mean(weekend_df)\n",
    "xbar_weekday = np.mean(weekday_df)\n",
    "s_weekend = np.std(weekend_df, ddof=1)\n",
    "s_weekday = np.std(weekday_df, ddof=1)\n",
    "n_weekend = len(weekend_df)\n",
    "n_weekday = len(weekday_df)\n",
    "df = n_weekday + n_weekend - 2\n",
    "\n",
    "sp2 = ((n_weekend - 1) * s_weekend ** 2 + (n_weekday - 1) * s_weekday ** 2) / (df)\n",
    "t = (xbar_weekend - xbar_weekday) / np.sqrt(sp2 * (1 / n_weekend + 1 / n_weekday))\n",
    "# print(\"t:\", t)\n",
    "\n",
    "\n",
    "# change to dependent tests\n",
    "\n",
    "group_t_val = (xbar_weekend - xbar_weekday) / np.sqrt(sp2 * (1 / n_weekend + 1 / n_weekday))\n",
    "group_t_val, pval = stats.ttest_ind(weekday_df[\"Steps\"], weekend_df[\"Steps\"])\n",
    "# pval /= 2 # divide by two because 1 rejection region\n",
    "print(\"HYPO TEST FOR STEPS:\")\n",
    "hypothesis_test(group_t_val, pval)\n",
    "print()\n",
    "\n",
    "# ttest_rel\n",
    "# compare first 12 fridays to first 12 mondays or average weekend and weekday steps\n",
    "# \n",
    "group_t_val, pval = stats.ttest_ind(weekday_df[\"FC\"], weekend_df[\"FC\"])\n",
    "print(\"HYPO TEST FOR FC:\")\n",
    "hypothesis_test(group_t_val, pval)\n",
    "print()\n",
    "group_t_val, pval = stats.ttest_ind(weekday_df[\"Distance\"], weekend_df[\"Distance\"])\n",
    "print(\"HYPO TEST FOR DISTANCE:\")\n",
    "hypothesis_test(group_t_val, pval)\n",
    "\n",
    "print()\n",
    "group_t_val, pval = stats.ttest_ind(weekday_df[\"WDS\"], weekend_df[\"WDS\"])\n",
    "print(\"HYPO TEST FOR WDS:\")\n",
    "hypothesis_test(group_t_val, pval)\n",
    "\n",
    "print()\n",
    "group_t_val, pval = stats.ttest_ind(weekday_df[\"Speed\"], weekend_df[\"Speed\"])\n",
    "print(\"HYPO TEST FOR SPEED:\")\n",
    "hypothesis_test(group_t_val, pval)\n",
    "\n",
    "print()\n",
    "group_t_val, pval = stats.ttest_ind(weekday_df[\"Step Length\"], weekend_df[\"Step Length\"])\n",
    "print(\"HYPO TEST FOR Step Length:\")\n",
    "hypothesis_test(group_t_val, pval)\n",
    "\n",
    "\n",
    "\n",
    "\n"
   ]
  },
  {
   "cell_type": "markdown",
   "metadata": {},
   "source": [
    "# Data Analysis"
   ]
  }
 ],
 "metadata": {
  "interpreter": {
   "hash": "2c17cdae881039898e019dde816ef025ab5528b4115dbe62b08e3ff91b305481"
  },
  "kernelspec": {
   "display_name": "Python 3.9.7 ('base')",
   "language": "python",
   "name": "python3"
  },
  "language_info": {
   "codemirror_mode": {
    "name": "ipython",
    "version": 3
   },
   "file_extension": ".py",
   "mimetype": "text/x-python",
   "name": "python",
   "nbconvert_exporter": "python",
   "pygments_lexer": "ipython3",
   "version": "3.9.7"
  },
  "orig_nbformat": 4
 },
 "nbformat": 4,
 "nbformat_minor": 2
}
